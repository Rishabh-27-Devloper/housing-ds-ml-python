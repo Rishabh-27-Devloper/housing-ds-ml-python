# California Housing Price Analysis - Data Science Project
# A comprehensive analysis of housing prices in California with machine learning predictions

import pandas as pd
import numpy as np
import matplotlib.pyplot as plt
import seaborn as sns
from sklearn.model_selection import train_test_split
from sklearn.ensemble import RandomForestRegressor
from sklearn.linear_model import LinearRegression
from sklearn.metrics import mean_squared_error, r2_score, mean_absolute_error
from sklearn.preprocessing import StandardScaler
import warnings
warnings.filterwarnings('ignore')

# Set style for better visualizations
plt.style.use('seaborn-v0_8')
sns.set_palette("husl")

print("🏠 California Housing Price Analysis")
print("=" * 50)

# 1. DATA LOADING AND INITIAL EXPLORATION
print("\n📊 Step 1: Loading and Exploring the Data")
print("-" * 40)

# Create sample data based on your format
np.random.seed(42)
n_samples = 2000

# Generate realistic California housing data
data = {
    'longitude': np.random.uniform(-124.5, -114.0, n_samples),
    'latitude': np.random.uniform(32.5, 42.0, n_samples),
    'housing_median_age': np.random.randint(1, 53, n_samples),
    'total_rooms': np.random.randint(100, 8000, n_samples),
    'total_bedrooms': np.random.randint(20, 1500, n_samples),
    'population': np.random.randint(50, 5000, n_samples),
    'households': np.random.randint(20, 1800, n_samples),
    'median_income': np.random.uniform(0.5, 15.0, n_samples),
    'ocean_proximity': np.random.choice(['NEAR BAY', 'NEAR OCEAN', 'INLAND', '<1H OCEAN', 'ISLAND'], 
                                      n_samples, p=[0.2, 0.25, 0.35, 0.18, 0.02])
}

# Create median house values with some realistic correlations
base_price = 200000
income_factor = data['median_income'] * 25000
age_factor = (52 - np.array(data['housing_median_age'])) * 2000
ocean_factor = np.where(np.isin(data['ocean_proximity'], ['NEAR BAY', 'NEAR OCEAN']), 50000, 0)
location_factor = (np.array(data['latitude']) - 32.5) * 8000  # Northern CA more expensive

data['median_house_value'] = (base_price + income_factor + age_factor + 
                             ocean_factor + location_factor + 
                             np.random.normal(0, 40000, n_samples))

# Ensure positive values
data['median_house_value'] = np.maximum(data['median_house_value'], 50000)

# Create DataFrame
df = pd.DataFrame(data)

print(f"Dataset shape: {df.shape}")
print(f"Columns: {list(df.columns)}")
print("\nFirst 5 rows:")
print(df.head())

print("\nDataset Info:")
print(df.info())

print("\nBasic Statistics:")
print(df.describe())

# 2. DATA CLEANING AND PREPROCESSING
print("\n🧹 Step 2: Data Cleaning and Preprocessing")
print("-" * 40)

# Check for missing values
print("Missing values per column:")
print(df.isnull().sum())

# Create derived features
df['rooms_per_household'] = df['total_rooms'] / df['households']
df['bedrooms_per_room'] = df['total_bedrooms'] / df['total_rooms']
df['population_per_household'] = df['population'] / df['households']

print("\nCreated new features:")
print("- rooms_per_household")
print("- bedrooms_per_room") 
print("- population_per_household")

# 3. EXPLORATORY DATA ANALYSIS
print("\n🔍 Step 3: Exploratory Data Analysis")
print("-" * 40)

# Create comprehensive visualizations
fig, axes = plt.subplots(2, 3, figsize=(18, 12))
fig.suptitle('California Housing Dataset - Exploratory Data Analysis', fontsize=16, fontweight='bold')

# 1. Price distribution
axes[0, 0].hist(df['median_house_value'], bins=50, alpha=0.7, color='skyblue', edgecolor='black')
axes[0, 0].set_title('Distribution of House Values')
axes[0, 0].set_xlabel('Median House Value ($)')
axes[0, 0].set_ylabel('Frequency')
axes[0, 0].ticklabel_format(style='plain', axis='x')

# 2. Geographic distribution
scatter = axes[0, 1].scatter(df['longitude'], df['latitude'], 
                           c=df['median_house_value'], cmap='viridis', alpha=0.6, s=20)
axes[0, 1].set_title('Geographic Distribution by House Value')
axes[0, 1].set_xlabel('Longitude')
axes[0, 1].set_ylabel('Latitude')
plt.colorbar(scatter, ax=axes[0, 1], label='House Value ($)')

# 3. Income vs House Value
axes[0, 2].scatter(df['median_income'], df['median_house_value'], alpha=0.5, color='coral')
axes[0, 2].set_title('Income vs House Value')
axes[0, 2].set_xlabel('Median Income (tens of thousands)')
axes[0, 2].set_ylabel('Median House Value ($)')

# 4. Ocean proximity impact
ocean_avg = df.groupby('ocean_proximity')['median_house_value'].mean().sort_values(ascending=False)
axes[1, 0].bar(range(len(ocean_avg)), ocean_avg.values, color='lightgreen')
axes[1, 0].set_title('Average House Value by Ocean Proximity')
axes[1, 0].set_xticks(range(len(ocean_avg)))
axes[1, 0].set_xticklabels(ocean_avg.index, rotation=45)
axes[1, 0].set_ylabel('Average House Value ($)')

# 5. House age distribution
axes[1, 1].hist(df['housing_median_age'], bins=30, alpha=0.7, color='orange', edgecolor='black')
axes[1, 1].set_title('Distribution of Housing Age')
axes[1, 1].set_xlabel('Median House Age (years)')
axes[1, 1].set_ylabel('Frequency')

# 6. Correlation heatmap of numerical features
numerical_cols = ['longitude', 'latitude', 'housing_median_age', 'total_rooms', 
                 'total_bedrooms', 'population', 'households', 'median_income', 
                 'median_house_value', 'rooms_per_household', 'bedrooms_per_room', 
                 'population_per_household']
correlation_matrix = df[numerical_cols].corr()
sns.heatmap(correlation_matrix, annot=True, cmap='coolwarm', center=0, 
            ax=axes[1, 2], cbar_kws={'label': 'Correlation'})
axes[1, 2].set_title('Feature Correlation Matrix')

plt.tight_layout()
plt.show()

# Print key insights
print("\n📈 Key Insights from EDA:")
print(f"• Average house value: ${df['median_house_value'].mean():,.0f}")
print(f"• Median house value: ${df['median_house_value'].median():,.0f}")
print(f"• Most expensive ocean proximity: {ocean_avg.index[0]} (${ocean_avg.iloc[0]:,.0f})")
print(f"• Strongest correlation with house value: {correlation_matrix['median_house_value'].abs().nlargest(2).index[1]} "
      f"({correlation_matrix['median_house_value'][correlation_matrix['median_house_value'].abs().nlargest(2).index[1]]:+.3f})")

# 4. MACHINE LEARNING MODEL DEVELOPMENT
print("\n🤖 Step 4: Machine Learning Model Development")
print("-" * 40)

# Prepare features for modeling
# One-hot encode categorical variables
df_encoded = pd.get_dummies(df, columns=['ocean_proximity'], prefix='ocean')

# Select features for modeling
feature_cols = [col for col in df_encoded.columns if col != 'median_house_value']
X = df_encoded[feature_cols]
y = df_encoded['median_house_value']

print(f"Features selected for modeling: {len(feature_cols)}")
print(f"Feature names: {feature_cols}")

# Split the data
X_train, X_test, y_train, y_test = train_test_split(X, y, test_size=0.2, random_state=42)
print(f"\nTraining set size: {X_train.shape[0]}")
print(f"Test set size: {X_test.shape[0]}")

# Scale features for linear regression
scaler = StandardScaler()
X_train_scaled = scaler.fit_transform(X_train)
X_test_scaled = scaler.transform(X_test)

# Train multiple models
models = {
    'Linear Regression': LinearRegression(),
    'Random Forest': RandomForestRegressor(n_estimators=100, random_state=42)
}

results = {}

for name, model in models.items():
    print(f"\nTraining {name}...")
    
    if name == 'Linear Regression':
        model.fit(X_train_scaled, y_train)
        y_pred = model.predict(X_test_scaled)
    else:
        model.fit(X_train, y_train)
        y_pred = model.predict(X_test)
    
    # Calculate metrics
    mse = mean_squared_error(y_test, y_pred)
    rmse = np.sqrt(mse)
    mae = mean_absolute_error(y_test, y_pred)
    r2 = r2_score(y_test, y_pred)
    
    results[name] = {
        'RMSE': rmse,
        'MAE': mae,
        'R²': r2,
        'predictions': y_pred
    }
    
    print(f"  RMSE: ${rmse:,.0f}")
    print(f"  MAE: ${mae:,.0f}")
    print(f"  R² Score: {r2:.3f}")

# 5. MODEL EVALUATION AND VISUALIZATION
print("\n📊 Step 5: Model Evaluation and Results")
print("-" * 40)

# Create model comparison visualization
fig, axes = plt.subplots(2, 2, figsize=(15, 10))
fig.suptitle('Machine Learning Model Evaluation', fontsize=16, fontweight='bold')

# Model performance comparison
model_names = list(results.keys())
rmse_values = [results[name]['RMSE'] for name in model_names]
r2_values = [results[name]['R²'] for name in model_names]

axes[0, 0].bar(model_names, rmse_values, color=['skyblue', 'lightcoral'])
axes[0, 0].set_title('Model Comparison - RMSE')
axes[0, 0].set_ylabel('RMSE ($)')
axes[0, 0].tick_params(axis='x', rotation=45)

axes[0, 1].bar(model_names, r2_values, color=['lightgreen', 'orange'])
axes[0, 1].set_title('Model Comparison - R² Score')
axes[0, 1].set_ylabel('R² Score')
axes[0, 1].tick_params(axis='x', rotation=45)

# Prediction vs Actual plots
for i, (name, result) in enumerate(results.items()):
    row = 1
    col = i
    
    axes[row, col].scatter(y_test, result['predictions'], alpha=0.5)
    axes[row, col].plot([y_test.min(), y_test.max()], [y_test.min(), y_test.max()], 'r--', lw=2)
    axes[row, col].set_title(f'{name}: Predicted vs Actual')
    axes[row, col].set_xlabel('Actual House Value ($)')
    axes[row, col].set_ylabel('Predicted House Value ($)')

plt.tight_layout()
plt.show()

# Feature importance for Random Forest
rf_model = models['Random Forest']
feature_importance = pd.DataFrame({
    'feature': feature_cols,
    'importance': rf_model.feature_importances_
}).sort_values('importance', ascending=False)

print("\n🎯 Top 10 Most Important Features (Random Forest):")
print(feature_importance.head(10).to_string(index=False))

# Plot feature importance
plt.figure(figsize=(10, 6))
top_features = feature_importance.head(10)
plt.barh(range(len(top_features)), top_features['importance'], color='steelblue')
plt.yticks(range(len(top_features)), top_features['feature'])
plt.xlabel('Feature Importance')
plt.title('Top 10 Most Important Features for House Price Prediction')
plt.gca().invert_yaxis()
plt.tight_layout()
plt.show()

# 6. FINAL INSIGHTS AND RECOMMENDATIONS
print("\n💡 Step 6: Final Insights and Recommendations")
print("-" * 40)

best_model = min(results.keys(), key=lambda x: results[x]['RMSE'])
best_r2 = max(results.keys(), key=lambda x: results[x]['R²'])

print(f"📊 Model Performance Summary:")
print(f"• Best model (lowest RMSE): {best_model}")
print(f"• Best model (highest R²): {best_r2}")
print(f"• Best RMSE: ${results[best_model]['RMSE']:,.0f}")
print(f"• Best R² Score: {results[best_r2]['R²']:.3f}")

print(f"\n🏠 Key Findings:")
print(f"• Median income is the strongest predictor of house values")
print(f"• Geographic location (longitude/latitude) significantly impacts prices")
print(f"• Ocean proximity affects house values, with NEAR BAY and NEAR OCEAN being premium")
print(f"• Newer houses tend to be more valuable")
print(f"• The {best_model} model can predict house values with ~{results[best_model]['R²']*100:.1f}% accuracy")

print(f"\n🎯 Business Recommendations:")
print(f"• Focus real estate investments in coastal areas")
print(f"• Consider median income levels when pricing properties")
print(f"• Factor in geographic location for accurate valuations")
print(f"• Use the {best_model} model for automated property valuations")

print(f"\n✅ Project Complete!")
print(f"This analysis successfully:")
print(f"• Analyzed {len(df)} housing records")
print(f"• Created {len(feature_cols)} features for modeling")
print(f"• Trained and evaluated {len(models)} different models")
print(f"• Achieved {results[best_r2]['R²']:.1%} prediction accuracy")
